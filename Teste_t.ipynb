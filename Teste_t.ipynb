{
  "nbformat": 4,
  "nbformat_minor": 0,
  "metadata": {
    "colab": {
      "provenance": []
    },
    "kernelspec": {
      "name": "python3",
      "display_name": "Python 3"
    },
    "language_info": {
      "name": "python"
    }
  },
  "cells": [
    {
      "cell_type": "markdown",
      "source": [
        "## Contextual Retriever x Naive RAG"
      ],
      "metadata": {
        "id": "9ucJOLAZXaXj"
      }
    },
    {
      "cell_type": "markdown",
      "source": [
        "### *Precisão do Contexto*"
      ],
      "metadata": {
        "id": "S99xaGFfVnXV"
      }
    },
    {
      "cell_type": "code",
      "execution_count": 6,
      "metadata": {
        "colab": {
          "base_uri": "https://localhost:8080/"
        },
        "id": "DeVCN6hwVhYn",
        "outputId": "f4e457a0-bdef-4bca-a3da-2241777dd224"
      },
      "outputs": [
        {
          "output_type": "stream",
          "name": "stdout",
          "text": [
            "T-statistic: nan, p-value: nan\n",
            "No significant difference from the baseline.\n"
          ]
        },
        {
          "output_type": "stream",
          "name": "stderr",
          "text": [
            "/usr/local/lib/python3.11/dist-packages/scipy/stats/_stats_py.py:1087: RuntimeWarning: divide by zero encountered in divide\n",
            "  var *= np.divide(n, n-ddof)  # to avoid error on division by zero\n",
            "/usr/local/lib/python3.11/dist-packages/scipy/stats/_stats_py.py:1087: RuntimeWarning: invalid value encountered in scalar multiply\n",
            "  var *= np.divide(n, n-ddof)  # to avoid error on division by zero\n"
          ]
        }
      ],
      "source": [
        "from scipy.stats import ttest_1samp\n",
        "\n",
        "precisao_values = 0.97\n",
        "\n",
        "precisao_naive = 0.91\n",
        "\n",
        "t_stat, p_value = ttest_1samp(precisao_values, popmean=precisao_naive)\n",
        "\n",
        "print(f\"T-statistic: {t_stat}, p-value: {p_value}\")\n",
        "\n",
        "if p_value < 0.05:\n",
        "    print(\"Significant difference from the baseline.\")\n",
        "else:\n",
        "    print(\"No significant difference from the baseline.\")"
      ]
    },
    {
      "cell_type": "markdown",
      "source": [
        "### *Recall do Contexto*"
      ],
      "metadata": {
        "id": "bVbVTnrJWbO6"
      }
    },
    {
      "cell_type": "code",
      "source": [
        "recall_values_list =0.77\n",
        "\n",
        "recall_naive = 0.67\n",
        "\n",
        "t_stat, p_value = ttest_1samp(recall_values_list, popmean=recall_naive)\n",
        "\n",
        "print(f\"T-statistic: {t_stat}, p-value: {p_value}\")\n",
        "\n",
        "if p_value < 0.05:\n",
        "    print(\"Significant difference from the baseline.\")\n",
        "else:\n",
        "    print(\"No significant difference from the baseline.\")"
      ],
      "metadata": {
        "colab": {
          "base_uri": "https://localhost:8080/"
        },
        "id": "DbwylkkoWgu5",
        "outputId": "945f46c2-bae0-4459-8e71-82522b53fc5c"
      },
      "execution_count": 4,
      "outputs": [
        {
          "output_type": "stream",
          "name": "stdout",
          "text": [
            "T-statistic: nan, p-value: nan\n",
            "No significant difference from the baseline.\n"
          ]
        },
        {
          "output_type": "stream",
          "name": "stderr",
          "text": [
            "/usr/local/lib/python3.11/dist-packages/scipy/stats/_stats_py.py:1087: RuntimeWarning: divide by zero encountered in divide\n",
            "  var *= np.divide(n, n-ddof)  # to avoid error on division by zero\n",
            "/usr/local/lib/python3.11/dist-packages/scipy/stats/_stats_py.py:1087: RuntimeWarning: invalid value encountered in scalar multiply\n",
            "  var *= np.divide(n, n-ddof)  # to avoid error on division by zero\n"
          ]
        }
      ]
    },
    {
      "cell_type": "markdown",
      "source": [
        "### *Fidelidade da Resposta*"
      ],
      "metadata": {
        "id": "iyO2u9cCWxRr"
      }
    },
    {
      "cell_type": "code",
      "source": [
        "fidelidade_values_list =0.81\n",
        "\n",
        "fidelidade_naive = 0.57\n",
        "\n",
        "t_stat, p_value = ttest_1samp(fidelidade_values_list, popmean=fidelidade_naive)\n",
        "\n",
        "print(f\"T-statistic: {t_stat}, p-value: {p_value}\")\n",
        "\n",
        "if p_value < 0.05:\n",
        "    print(\"Significant difference from the baseline.\")\n",
        "else:\n",
        "    print(\"No significant difference from the baseline.\")"
      ],
      "metadata": {
        "colab": {
          "base_uri": "https://localhost:8080/"
        },
        "id": "ZSUIiWPxX_j0",
        "outputId": "b2746ca8-7b77-44f6-e724-267cd15423f9"
      },
      "execution_count": 7,
      "outputs": [
        {
          "output_type": "stream",
          "name": "stdout",
          "text": [
            "T-statistic: nan, p-value: nan\n",
            "No significant difference from the baseline.\n"
          ]
        },
        {
          "output_type": "stream",
          "name": "stderr",
          "text": [
            "/usr/local/lib/python3.11/dist-packages/scipy/stats/_stats_py.py:1087: RuntimeWarning: divide by zero encountered in divide\n",
            "  var *= np.divide(n, n-ddof)  # to avoid error on division by zero\n",
            "/usr/local/lib/python3.11/dist-packages/scipy/stats/_stats_py.py:1087: RuntimeWarning: invalid value encountered in scalar multiply\n",
            "  var *= np.divide(n, n-ddof)  # to avoid error on division by zero\n"
          ]
        }
      ]
    },
    {
      "cell_type": "markdown",
      "source": [
        "### *Relevância da Resposta*"
      ],
      "metadata": {
        "id": "1jUxKmzxYOxO"
      }
    },
    {
      "cell_type": "code",
      "source": [
        "relevancia_values_list =0.57\n",
        "\n",
        "relevancia_naive = 0.48\n",
        "\n",
        "t_stat, p_value = ttest_1samp(relevancia_values_list, popmean=relevancia_naive)\n",
        "\n",
        "print(f\"T-statistic: {t_stat}, p-value: {p_value}\")\n",
        "\n",
        "if p_value < 0.05:\n",
        "    print(\"Significant difference from the baseline.\")\n",
        "else:\n",
        "    print(\"No significant difference from the baseline.\")"
      ],
      "metadata": {
        "colab": {
          "base_uri": "https://localhost:8080/"
        },
        "id": "9f5zNrPxYU6g",
        "outputId": "5169a7fa-2197-4f3f-cbfd-aa54faaf5ee4"
      },
      "execution_count": 8,
      "outputs": [
        {
          "output_type": "stream",
          "name": "stdout",
          "text": [
            "T-statistic: nan, p-value: nan\n",
            "No significant difference from the baseline.\n"
          ]
        },
        {
          "output_type": "stream",
          "name": "stderr",
          "text": [
            "/usr/local/lib/python3.11/dist-packages/scipy/stats/_stats_py.py:1087: RuntimeWarning: divide by zero encountered in divide\n",
            "  var *= np.divide(n, n-ddof)  # to avoid error on division by zero\n",
            "/usr/local/lib/python3.11/dist-packages/scipy/stats/_stats_py.py:1087: RuntimeWarning: invalid value encountered in scalar multiply\n",
            "  var *= np.divide(n, n-ddof)  # to avoid error on division by zero\n"
          ]
        }
      ]
    },
    {
      "cell_type": "markdown",
      "source": [],
      "metadata": {
        "id": "Lxej2NA8YofX"
      }
    },
    {
      "cell_type": "markdown",
      "source": [
        "## Hybrid Search x Naive RAG"
      ],
      "metadata": {
        "id": "CaNFPDX9Yo_Y"
      }
    },
    {
      "cell_type": "markdown",
      "source": [
        "### *Precisão do Contexto*"
      ],
      "metadata": {
        "id": "FKEt0rGhYo_Z"
      }
    },
    {
      "cell_type": "code",
      "execution_count": 12,
      "metadata": {
        "colab": {
          "base_uri": "https://localhost:8080/"
        },
        "outputId": "e1b4ff3f-4bf1-4b88-f8fe-a03c3438ae60",
        "id": "ITj1fpsQYo_a"
      },
      "outputs": [
        {
          "output_type": "stream",
          "name": "stdout",
          "text": [
            "T-statistic: nan, p-value: nan\n",
            "No significant difference from the baseline.\n"
          ]
        }
      ],
      "source": [
        "from scipy.stats import ttest_1samp\n",
        "\n",
        "precisao_values = 1\n",
        "\n",
        "precisao_naive = 0.91\n",
        "\n",
        "t_stat, p_value = ttest_1samp(precisao_values, popmean=precisao_naive)\n",
        "\n",
        "print(f\"T-statistic: {t_stat}, p-value: {p_value}\")\n",
        "\n",
        "if p_value < 0.05:\n",
        "    print(\"Significant difference from the baseline.\")\n",
        "else:\n",
        "    print(\"No significant difference from the baseline.\")"
      ]
    },
    {
      "cell_type": "markdown",
      "source": [
        "### *Recall do Contexto*"
      ],
      "metadata": {
        "id": "XCXrB85kYo_b"
      }
    },
    {
      "cell_type": "code",
      "source": [
        "recall_values_list =0.68\n",
        "\n",
        "recall_naive = 0.67\n",
        "\n",
        "t_stat, p_value = ttest_1samp(recall_values_list, popmean=recall_naive)\n",
        "\n",
        "print(f\"T-statistic: {t_stat}, p-value: {p_value}\")\n",
        "\n",
        "if p_value < 0.05:\n",
        "    print(\"Significant difference from the baseline.\")\n",
        "else:\n",
        "    print(\"No significant difference from the baseline.\")"
      ],
      "metadata": {
        "colab": {
          "base_uri": "https://localhost:8080/"
        },
        "outputId": "945c5e46-80b8-4e28-bc44-950fc4e276ff",
        "id": "QLI6mjKJYo_c"
      },
      "execution_count": 11,
      "outputs": [
        {
          "output_type": "stream",
          "name": "stdout",
          "text": [
            "T-statistic: nan, p-value: nan\n",
            "No significant difference from the baseline.\n"
          ]
        }
      ]
    },
    {
      "cell_type": "markdown",
      "source": [
        "### *Fidelidade da Resposta*"
      ],
      "metadata": {
        "id": "wKmoIGmyYo_d"
      }
    },
    {
      "cell_type": "code",
      "source": [
        "fidelidade_values_list =0.88\n",
        "\n",
        "fidelidade_naive = 0.57\n",
        "\n",
        "t_stat, p_value = ttest_1samp(fidelidade_values_list, popmean=fidelidade_naive)\n",
        "\n",
        "print(f\"T-statistic: {t_stat}, p-value: {p_value}\")\n",
        "\n",
        "if p_value < 0.05:\n",
        "    print(\"Significant difference from the baseline.\")\n",
        "else:\n",
        "    print(\"No significant difference from the baseline.\")"
      ],
      "metadata": {
        "colab": {
          "base_uri": "https://localhost:8080/"
        },
        "outputId": "f3ba41df-6a75-4750-8b72-4cdd42b24f9b",
        "id": "1olDeexjYo_d"
      },
      "execution_count": 10,
      "outputs": [
        {
          "output_type": "stream",
          "name": "stdout",
          "text": [
            "T-statistic: nan, p-value: nan\n",
            "No significant difference from the baseline.\n"
          ]
        }
      ]
    },
    {
      "cell_type": "markdown",
      "source": [
        "### *Relevância da Resposta*"
      ],
      "metadata": {
        "id": "czKFsYJ5Yo_e"
      }
    },
    {
      "cell_type": "code",
      "source": [
        "relevancia_values_list =0.66\n",
        "\n",
        "relevancia_naive = 0.48\n",
        "\n",
        "t_stat, p_value = ttest_1samp(relevancia_values_list, popmean=relevancia_naive)\n",
        "\n",
        "print(f\"T-statistic: {t_stat}, p-value: {p_value}\")\n",
        "\n",
        "if p_value < 0.05:\n",
        "    print(\"Significant difference from the baseline.\")\n",
        "else:\n",
        "    print(\"No significant difference from the baseline.\")"
      ],
      "metadata": {
        "colab": {
          "base_uri": "https://localhost:8080/"
        },
        "outputId": "5f6e8230-a76d-4739-9662-c9c243312d79",
        "id": "94msCGh5Yo_f"
      },
      "execution_count": 9,
      "outputs": [
        {
          "output_type": "stream",
          "name": "stdout",
          "text": [
            "T-statistic: nan, p-value: nan\n",
            "No significant difference from the baseline.\n"
          ]
        }
      ]
    },
    {
      "cell_type": "code",
      "source": [],
      "metadata": {
        "id": "paeKJZgeYoPW"
      },
      "execution_count": null,
      "outputs": []
    }
  ]
}